{
  "metadata": {
    "kernelspec": {
      "language": "python",
      "display_name": "Python 3",
      "name": "python3"
    },
    "language_info": {
      "pygments_lexer": "ipython3",
      "nbconvert_exporter": "python",
      "version": "3.6.4",
      "file_extension": ".py",
      "codemirror_mode": {
        "name": "ipython",
        "version": 3
      },
      "name": "python",
      "mimetype": "text/x-python"
    },
    "colab": {
      "provenance": []
    }
  },
  "nbformat_minor": 0,
  "nbformat": 4,
  "cells": [
    {
      "cell_type": "markdown",
      "source": [
        "<div style=\"color:white;\n",
        "           display:fill;\n",
        "           border-radius:5px;\n",
        "           font-size:110%;\n",
        "           font-family:cursive;\n",
        "           letter-spacing:0.5px;\n",
        "           background-color:powderblue;\n",
        "           color:Black;\n",
        "           font-family:cursive\n",
        "           \">\n",
        "<h1 style=\"text-align:center;font-weight: bold\">Analisis Sentimen Twitter dengan SVM, Naive Bayes, Bagging, Random Forest, dan LSTM</h1>\n",
        "\n",
        "</div>\n",
        "\n"
      ],
      "metadata": {
        "_uuid": "8f2839f25d086af736a60e9eeb907d3b93b6e0e5",
        "_cell_guid": "b1076dfc-b9ad-4769-8c92-a6c4dae69d19",
        "execution": {
          "iopub.status.busy": "2021-10-08T12:58:11.812144Z",
          "iopub.execute_input": "2021-10-08T12:58:11.812902Z",
          "iopub.status.idle": "2021-10-08T12:58:11.829075Z",
          "shell.execute_reply.started": "2021-10-08T12:58:11.812847Z",
          "shell.execute_reply": "2021-10-08T12:58:11.828148Z"
        },
        "id": "TcMHWORDm2Bz"
      }
    },
    {
      "cell_type": "markdown",
      "source": [
        "<div style=\"color:white;\n",
        "           display:fill;\n",
        "           border-radius:5px;\n",
        "           font-size:110%;\n",
        "           font-family:cursive;\n",
        "           letter-spacing:0.5px;\n",
        "           background-color:powderblue;\n",
        "           color:Black;\n",
        "           font-family:cursive\n",
        "           \">\n",
        "<h1 style=\"text-align:center;font-weight: bold\"> Mengimpor Perpustakaan </h1>\n",
        "</div>\n"
      ],
      "metadata": {
        "id": "2JykyiKLm2B1"
      }
    },
    {
      "cell_type": "code",
      "source": [
        "import pandas as pd\n",
        "import seaborn as sns\n",
        "import re, nltk\n",
        "nltk.download('punkt')\n",
        "import matplotlib.pyplot as plt\n",
        "from sklearn.model_selection import train_test_split, StratifiedKFold, cross_val_score\n",
        "from sklearn import model_selection, naive_bayes, svm\n",
        "from sklearn.metrics import classification_report,confusion_matrix\n",
        "from sklearn.metrics import roc_auc_score\n",
        "from sklearn.metrics import recall_score\n",
        "from sklearn.metrics import f1_score\n",
        "from sklearn.metrics import confusion_matrix, accuracy_score\n",
        "from sklearn.model_selection import GridSearchCV\n",
        "from sklearn.metrics import precision_recall_curve\n",
        "from sklearn.metrics import f1_score\n",
        "from sklearn.metrics import auc\n",
        "from matplotlib import pyplot\n",
        "from sklearn.metrics import roc_curve\n",
        "from sklearn.metrics import roc_auc_score, accuracy_score\n",
        "import string\n",
        "from nltk.corpus import stopwords\n",
        "nltk.download('stopwords')\n",
        "from sklearn.feature_extraction.text import CountVectorizer, TfidfVectorizer\n",
        "from sklearn.naive_bayes import MultinomialNB, GaussianNB\n",
        "from sklearn.metrics import f1_score\n",
        "plt.style.use('fivethirtyeight')\n",
        "plt.style.use('dark_background')\n",
        "from sklearn.ensemble import AdaBoostClassifier\n",
        "from sklearn.model_selection import cross_val_score\n",
        "import numpy as np\n",
        "from sklearn.ensemble import BaggingClassifier\n",
        "from sklearn.ensemble import RandomForestClassifier\n",
        "from lime import lime_tabular\n",
        "from tensorflow.keras.layers import Embedding\n",
        "from tensorflow.keras.preprocessing.sequence import pad_sequences\n",
        "from tensorflow.keras.models import Sequential\n",
        "from tensorflow.keras.preprocessing.text import one_hot\n",
        "from tensorflow.keras.layers import LSTM, Bidirectional\n",
        "from tensorflow.keras.layers import Dense, Dropout\n",
        "\n"
      ],
      "metadata": {
        "execution": {
          "iopub.status.busy": "2022-01-06T07:19:23.688808Z",
          "iopub.execute_input": "2022-01-06T07:19:23.689094Z",
          "iopub.status.idle": "2022-01-06T07:19:29.655528Z",
          "shell.execute_reply.started": "2022-01-06T07:19:23.689021Z",
          "shell.execute_reply": "2022-01-06T07:19:29.654784Z"
        },
        "trusted": true,
        "id": "-DfUgS_Lm2B1"
      },
      "execution_count": null,
      "outputs": []
    },
    {
      "cell_type": "code",
      "source": [
        "df =pd.read_csv(r'../input/twitter-airline-sentiment/Tweets.csv')\n",
        "df.head()"
      ],
      "metadata": {
        "execution": {
          "iopub.status.busy": "2022-01-06T07:19:29.658775Z",
          "iopub.execute_input": "2022-01-06T07:19:29.658972Z",
          "iopub.status.idle": "2022-01-06T07:19:29.800728Z",
          "shell.execute_reply.started": "2022-01-06T07:19:29.658949Z",
          "shell.execute_reply": "2022-01-06T07:19:29.800061Z"
        },
        "trusted": true,
        "id": "1cl9oQV-m2B2"
      },
      "execution_count": null,
      "outputs": []
    },
    {
      "cell_type": "code",
      "source": [
        "# Unique values of sentiment\n",
        "df['airline_sentiment'].unique()"
      ],
      "metadata": {
        "execution": {
          "iopub.status.busy": "2022-01-06T07:19:29.801793Z",
          "iopub.execute_input": "2022-01-06T07:19:29.802425Z",
          "iopub.status.idle": "2022-01-06T07:19:29.812622Z",
          "shell.execute_reply.started": "2022-01-06T07:19:29.802388Z",
          "shell.execute_reply": "2022-01-06T07:19:29.811929Z"
        },
        "trusted": true,
        "id": "VfDPN0A5m2B3"
      },
      "execution_count": null,
      "outputs": []
    },
    {
      "cell_type": "code",
      "source": [
        "# Unique values of sentiment plot\n",
        "\n",
        "ax = sns.countplot(x=\"airline_sentiment\", data=df)"
      ],
      "metadata": {
        "execution": {
          "iopub.status.busy": "2022-01-06T07:19:29.815972Z",
          "iopub.execute_input": "2022-01-06T07:19:29.816619Z",
          "iopub.status.idle": "2022-01-06T07:19:30.020444Z",
          "shell.execute_reply.started": "2022-01-06T07:19:29.816591Z",
          "shell.execute_reply": "2022-01-06T07:19:30.019659Z"
        },
        "trusted": true,
        "id": "TbAoAsZ1m2B3"
      },
      "execution_count": null,
      "outputs": []
    },
    {
      "cell_type": "markdown",
      "source": [
        "positif dan netral jumlahnya hampir sama.\n",
        "\n",
        "negatif jumlahnya dua kali lebih banyak daripada sentimen netral atau positif."
      ],
      "metadata": {
        "id": "YjKCYmM2m2B4"
      }
    },
    {
      "cell_type": "code",
      "source": [
        "# Unique values of airline\n",
        "\n",
        "plt.figure(figsize=(10,10))\n",
        "ax = sns.countplot(x=\"airline\", data=df)"
      ],
      "metadata": {
        "execution": {
          "iopub.status.busy": "2022-01-06T07:19:30.021605Z",
          "iopub.execute_input": "2022-01-06T07:19:30.021988Z",
          "iopub.status.idle": "2022-01-06T07:19:30.256143Z",
          "shell.execute_reply.started": "2022-01-06T07:19:30.021954Z",
          "shell.execute_reply": "2022-01-06T07:19:30.255496Z"
        },
        "trusted": true,
        "id": "Zx5nNMXDm2B4"
      },
      "execution_count": null,
      "outputs": []
    },
    {
      "cell_type": "markdown",
      "source": [
        "> United memiliki jumlah penerbangan terbanyak.\n",
        "\n",
        "> Virgin America memiliki jumlah penerbangan paling sedikit."
      ],
      "metadata": {
        "id": "ly0oxiHsm2B4"
      }
    },
    {
      "cell_type": "markdown",
      "source": [
        "<div style=\"color:white;\n",
        "           display:fill;\n",
        "           border-radius:5px;\n",
        "           font-size:110%;\n",
        "           font-family:cursive;\n",
        "           letter-spacing:0.5px;\n",
        "           background-color:powderblue;\n",
        "           color:Black;\n",
        "           font-family:cursive\n",
        "           \">\n",
        "<h1 style=\"text-align:center;font-weight: bold\">Fungsi Utilitas </h1>\n",
        "</div>\n"
      ],
      "metadata": {
        "id": "muW50cZqm2B5"
      }
    },
    {
      "cell_type": "code",
      "source": [
        "# I am tokenizing the tweet and also taking tokens from second index onwards as initital to gives airline name and '@' and lowering thm and later making it back a sentence\n",
        "def clean_the_tweet(text):\n",
        "  tokens= nltk.word_tokenize(re.sub(\"[^a-zA-Z]\", \" \",text))\n",
        "  tokens = [token.lower() for token in tokens]\n",
        "  return ' '.join(tokens[2:])\n",
        "\n",
        "\n",
        "\n",
        "def text_process(msg):\n",
        "  nopunc =[char for char in msg if char not in string.punctuation]\n",
        "  nopunc=''.join(nopunc)\n",
        "  return ' '.join([word for word in nopunc.split() if word.lower() not in stopwords.words('english')])\n",
        "\n",
        "\n",
        "\n",
        "def check_scores(clf,X_train, X_test, y_train, y_test):\n",
        "\n",
        "  model=clf.fit(X_train, y_train)\n",
        "  predicted_class=model.predict(X_test)\n",
        "  predicted_class_train=model.predict(X_train)\n",
        "  test_probs = model.predict_proba(X_test)\n",
        "  test_probs = test_probs[:, 1]\n",
        "  yhat = model.predict(X_test)\n",
        "  lr_precision, lr_recall, _ = precision_recall_curve(y_test, test_probs)\n",
        "  lr_f1, lr_auc = f1_score(y_test, yhat), auc(lr_recall, lr_precision)\n",
        "\n",
        "\n",
        "  print('Train confusion matrix is: ',)\n",
        "  print(confusion_matrix(y_train, predicted_class_train))\n",
        "\n",
        "  print()\n",
        "  print('Test confusion matrix is: ')\n",
        "  print(confusion_matrix(y_test, predicted_class))\n",
        "  print()\n",
        "  print(classification_report(y_test,predicted_class))\n",
        "  print()\n",
        "  train_accuracy = accuracy_score(y_train,predicted_class_train)\n",
        "  test_accuracy = accuracy_score(y_test,predicted_class)\n",
        "\n",
        "  print(\"Train accuracy score: \", train_accuracy)\n",
        "  print(\"Test accuracy score: \",test_accuracy )\n",
        "  print()\n",
        "  train_auc = roc_auc_score(y_train, clf.predict_proba(X_train)[:,1])\n",
        "  test_auc = roc_auc_score(y_test, clf.predict_proba(X_test)[:,1])\n",
        "\n",
        "  print(\"Train ROC-AUC score: \", train_auc)\n",
        "  print(\"Test ROC-AUC score: \", test_auc)\n",
        "  fig, (ax1, ax2) = plt.subplots(1, 2)\n",
        "\n",
        "  ax1.plot(lr_recall, lr_precision)\n",
        "  ax1.set(xlabel=\"Recall\", ylabel=\"Precision\")\n",
        "\n",
        "  plt.subplots_adjust(left=0.5,\n",
        "                    bottom=0.1,\n",
        "                    right=1.5,\n",
        "                    top=0.9,\n",
        "                    wspace=0.4,\n",
        "                    hspace=0.4)\n",
        "  print()\n",
        "  print('Are under Precision-Recall curve:', lr_f1)\n",
        "\n",
        "  fpr, tpr, _ = roc_curve(y_test, test_probs)\n",
        "\n",
        "\n",
        "  ax2.plot(fpr, tpr)\n",
        "  ax2.set(xlabel='False Positive Rate', ylabel='True Positive Rate')\n",
        "\n",
        "  print(\"Area under ROC-AUC:\", lr_auc)\n",
        "  return train_accuracy, test_accuracy, train_auc, test_auc\n",
        "\n",
        "\n",
        "\n",
        "def grid_search(model, parameters, X_train, Y_train):\n",
        "  #Doing a grid\n",
        "  grid = GridSearchCV(estimator=model,\n",
        "                       param_grid = parameters,\n",
        "                       cv = 2, verbose=2, scoring='roc_auc')\n",
        "  #Fitting the grid\n",
        "  grid.fit(X_train,Y_train)\n",
        "  print()\n",
        "  print()\n",
        "  # Best model found using grid search\n",
        "  optimal_model = grid.best_estimator_\n",
        "  print('Best parameters are: ')\n",
        "  print( grid.best_params_)\n",
        "\n",
        "  return optimal_model\n",
        "\n"
      ],
      "metadata": {
        "execution": {
          "iopub.status.busy": "2022-01-06T07:19:30.257517Z",
          "iopub.execute_input": "2022-01-06T07:19:30.257964Z",
          "iopub.status.idle": "2022-01-06T07:19:30.274647Z",
          "shell.execute_reply.started": "2022-01-06T07:19:30.257928Z",
          "shell.execute_reply": "2022-01-06T07:19:30.273912Z"
        },
        "trusted": true,
        "id": "6Zm9JJlmm2B5"
      },
      "execution_count": null,
      "outputs": []
    },
    {
      "cell_type": "markdown",
      "source": [
        "<div style=\"color:white;\n",
        "           display:fill;\n",
        "           border-radius:5px;\n",
        "           font-size:110%;\n",
        "           font-family:cursive;\n",
        "           letter-spacing:0.5px;\n",
        "           background-color:powderblue;\n",
        "           color:Black;\n",
        "           font-family:cursive\n",
        "           \">\n",
        "<h1 style=\"text-align:center;font-weight: bold\"> Persiapan Teks </h1>\n",
        "</div>\n"
      ],
      "metadata": {
        "id": "s8Eelh4cm2B5"
      }
    },
    {
      "cell_type": "code",
      "source": [
        "# removing neutral tweets\n",
        "\n",
        "df = df[df['airline_sentiment']!='neutral']\n",
        "df['cleaned_tweet'] = df['text'].apply(clean_the_tweet)\n",
        "\n",
        "df.head()\n",
        "df['airline_sentiment'] = df['airline_sentiment'].apply(lambda x: 1 if x =='positive' else 0)\n",
        "df.head()"
      ],
      "metadata": {
        "execution": {
          "iopub.status.busy": "2022-01-06T07:19:30.275754Z",
          "iopub.execute_input": "2022-01-06T07:19:30.276071Z",
          "iopub.status.idle": "2022-01-06T07:19:32.796339Z",
          "shell.execute_reply.started": "2022-01-06T07:19:30.276036Z",
          "shell.execute_reply": "2022-01-06T07:19:32.795646Z"
        },
        "trusted": true,
        "id": "8I4QWHzTm2B6"
      },
      "execution_count": null,
      "outputs": []
    },
    {
      "cell_type": "code",
      "source": [
        "# Cleaning the tweets, removing punctuation marks\n",
        "df['cleaned_tweet'] = df['cleaned_tweet'].apply(text_process)\n",
        "df.reset_index(drop=True, inplace = True)\n",
        "df.head()"
      ],
      "metadata": {
        "execution": {
          "iopub.status.busy": "2022-01-06T07:19:32.797466Z",
          "iopub.execute_input": "2022-01-06T07:19:32.798315Z",
          "iopub.status.idle": "2022-01-06T07:19:55.616686Z",
          "shell.execute_reply.started": "2022-01-06T07:19:32.798278Z",
          "shell.execute_reply": "2022-01-06T07:19:55.616021Z"
        },
        "trusted": true,
        "id": "vRtFVBDQm2B6"
      },
      "execution_count": null,
      "outputs": []
    },
    {
      "cell_type": "code",
      "source": [
        "df['airline_sentiment'].unique()"
      ],
      "metadata": {
        "execution": {
          "iopub.status.busy": "2022-01-06T07:19:55.618017Z",
          "iopub.execute_input": "2022-01-06T07:19:55.618486Z",
          "iopub.status.idle": "2022-01-06T07:19:55.62558Z",
          "shell.execute_reply.started": "2022-01-06T07:19:55.61845Z",
          "shell.execute_reply": "2022-01-06T07:19:55.624831Z"
        },
        "trusted": true,
        "id": "O_09xeJDm2B6"
      },
      "execution_count": null,
      "outputs": []
    },
    {
      "cell_type": "markdown",
      "source": [
        "<div style=\"color:white;\n",
        "           display:fill;\n",
        "           border-radius:5px;\n",
        "           font-size:110%;\n",
        "           font-family:cursive;\n",
        "           letter-spacing:0.5px;\n",
        "           background-color:powderblue;\n",
        "           color:Black;\n",
        "           font-family:cursive\n",
        "           \">\n",
        "<h1 style=\"text-align:center;font-weight: bold\"> Model SVM dasar dengan TF-IDF </h1>\n",
        "</div>\n"
      ],
      "metadata": {
        "id": "DTGTH-ofm2B6"
      }
    },
    {
      "cell_type": "code",
      "source": [
        "# Creating object of TF-IDF vectorizer\n",
        "vectorizer = TfidfVectorizer(use_idf=True, lowercase=True)\n",
        "X_tf_idf= vectorizer.fit_transform(df.cleaned_tweet)\n",
        "x_train, x_test, y_train, y_test = train_test_split(X_tf_idf, df['airline_sentiment'], random_state=42)\n"
      ],
      "metadata": {
        "execution": {
          "iopub.status.busy": "2022-01-06T07:19:55.62929Z",
          "iopub.execute_input": "2022-01-06T07:19:55.629518Z",
          "iopub.status.idle": "2022-01-06T07:19:55.815056Z",
          "shell.execute_reply.started": "2022-01-06T07:19:55.629494Z",
          "shell.execute_reply": "2022-01-06T07:19:55.81441Z"
        },
        "trusted": true,
        "id": "oSnS6OCjm2B6"
      },
      "execution_count": null,
      "outputs": []
    },
    {
      "cell_type": "code",
      "source": [
        "\n",
        "SVM = svm.SVC( probability=True)\n",
        "s_train_accuracy, s_test_accuracy, s_train_auc, s_test_auc = check_scores(SVM,x_train, x_test, y_train, y_test)\n"
      ],
      "metadata": {
        "execution": {
          "iopub.status.busy": "2022-01-06T07:19:55.816356Z",
          "iopub.execute_input": "2022-01-06T07:19:55.816616Z",
          "iopub.status.idle": "2022-01-06T07:20:38.253946Z",
          "shell.execute_reply.started": "2022-01-06T07:19:55.816584Z",
          "shell.execute_reply": "2022-01-06T07:20:38.253164Z"
        },
        "trusted": true,
        "id": "laxQ4OsQm2B7"
      },
      "execution_count": null,
      "outputs": []
    },
    {
      "cell_type": "markdown",
      "source": [
        "> Dengan meningkatnya FPR, TPR juga meningkat.\n",
        "\n",
        "> Dengan meningkatnya recall, presisi menurun."
      ],
      "metadata": {
        "id": "9EKogDCMm2B7"
      }
    },
    {
      "cell_type": "markdown",
      "source": [
        "<div style=\"color:white;\n",
        "           display:fill;\n",
        "           border-radius:5px;\n",
        "           font-size:110%;\n",
        "           font-family:cursive;\n",
        "           letter-spacing:0.5px;\n",
        "           background-color:powderblue;\n",
        "           color:Black;\n",
        "           font-family:cursive\n",
        "           \">\n",
        "<h1 style=\"text-align:center;font-weight: bold\"> Setelah mengoptimalkan hiperparameter dengan TF-IDF </h1>\n",
        "</div>\n"
      ],
      "metadata": {
        "id": "xz2pzldtm2B7"
      }
    },
    {
      "cell_type": "code",
      "source": [
        "# Tuning the hyperparameters\n",
        "parameters ={\n",
        "    \"C\":[0.1,1,10],\n",
        "    \"kernel\":['linear', 'rbf', 'sigmoid'],\n",
        "    \"gamma\":['scale', 'auto']\n",
        "}\n",
        "\n",
        "\n",
        "\n",
        "svm_optimal = grid_search(svm.SVC(probability=True), parameters,x_train, y_train)"
      ],
      "metadata": {
        "execution": {
          "iopub.status.busy": "2022-01-06T07:20:38.255355Z",
          "iopub.execute_input": "2022-01-06T07:20:38.255821Z",
          "iopub.status.idle": "2022-01-06T07:24:43.964681Z",
          "shell.execute_reply.started": "2022-01-06T07:20:38.255786Z",
          "shell.execute_reply": "2022-01-06T07:24:43.963913Z"
        },
        "trusted": true,
        "id": "bqeMVl4Sm2B7"
      },
      "execution_count": null,
      "outputs": []
    },
    {
      "cell_type": "code",
      "source": [
        "so_train_accuracy, so_test_accuracy, so_train_auc, so_test_auc = check_scores(svm_optimal,x_train, x_test, y_train, y_test)"
      ],
      "metadata": {
        "execution": {
          "iopub.status.busy": "2022-01-06T07:24:43.965825Z",
          "iopub.execute_input": "2022-01-06T07:24:43.966078Z",
          "iopub.status.idle": "2022-01-06T07:25:36.927423Z",
          "shell.execute_reply.started": "2022-01-06T07:24:43.966043Z",
          "shell.execute_reply": "2022-01-06T07:25:36.926768Z"
        },
        "trusted": true,
        "id": "Lecbjanvm2B7"
      },
      "execution_count": null,
      "outputs": []
    },
    {
      "cell_type": "markdown",
      "source": [
        "> Dengan peningkatan recall, presisi menurun yang juga masuk akal.\n",
        "\n",
        "> Dengan peningkatan TPR, FPR meningkat."
      ],
      "metadata": {
        "id": "ESYIn1p-m2B8"
      }
    },
    {
      "cell_type": "markdown",
      "source": [
        "<div style=\"color:white;\n",
        "           display:fill;\n",
        "           border-radius:5px;\n",
        "           font-size:110%;\n",
        "           font-family:cursive;\n",
        "           letter-spacing:0.5px;\n",
        "           background-color:powderblue;\n",
        "           color:Black;\n",
        "           font-family:cursive\n",
        "           \">\n",
        "<h1 style=\"text-align:center;font-weight: bold\"> Menggunakan Multinomial Naive Bayes </h1>\n",
        "</div>\n"
      ],
      "metadata": {
        "id": "umlNfi9um2B8"
      }
    },
    {
      "cell_type": "code",
      "source": [
        "m_train_accuracy, m_test_accuracy, m_train_auc, m_test_auc = check_scores(MultinomialNB(),x_train, x_test, y_train, y_test)\n"
      ],
      "metadata": {
        "execution": {
          "iopub.status.busy": "2022-01-06T07:25:36.928675Z",
          "iopub.execute_input": "2022-01-06T07:25:36.928908Z",
          "iopub.status.idle": "2022-01-06T07:25:37.388852Z",
          "shell.execute_reply.started": "2022-01-06T07:25:36.928876Z",
          "shell.execute_reply": "2022-01-06T07:25:37.388174Z"
        },
        "trusted": true,
        "id": "9dFBSf1im2B8"
      },
      "execution_count": null,
      "outputs": []
    },
    {
      "cell_type": "markdown",
      "source": [
        "<div style=\"color:white;\n",
        "           display:fill;\n",
        "           border-radius:5px;\n",
        "           font-size:110%;\n",
        "           font-family:cursive;\n",
        "           letter-spacing:0.5px;\n",
        "           background-color:powderblue;\n",
        "           color:Black;\n",
        "           font-family:cursive\n",
        "           \">\n",
        "<h1 style=\"text-align:center;font-weight: bold\"> Menggunakan Gaussian Naive Bayes\n",
        " </h1>\n",
        "</div>\n"
      ],
      "metadata": {
        "id": "KGo765jCm2B8"
      }
    },
    {
      "cell_type": "code",
      "source": [
        "g_train_accuracy, g_test_accuracy, g_train_auc, g_test_auc=check_scores(GaussianNB(),x_train.toarray(), x_test.toarray(), y_train, y_test)\n"
      ],
      "metadata": {
        "execution": {
          "iopub.status.busy": "2022-01-06T07:25:37.392697Z",
          "iopub.execute_input": "2022-01-06T07:25:37.394608Z",
          "iopub.status.idle": "2022-01-06T07:25:43.719398Z",
          "shell.execute_reply.started": "2022-01-06T07:25:37.39457Z",
          "shell.execute_reply": "2022-01-06T07:25:43.718722Z"
        },
        "trusted": true,
        "id": "CwIlII5zm2B8"
      },
      "execution_count": null,
      "outputs": []
    },
    {
      "cell_type": "markdown",
      "source": [
        "> Sangat menarik untuk melihat dalam Naive Bayes, kita mendapatkan hubungan linear."
      ],
      "metadata": {
        "id": "asbP8026m2B8"
      }
    },
    {
      "cell_type": "markdown",
      "source": [
        "<div style=\"color:white;\n",
        "           display:fill;\n",
        "           border-radius:5px;\n",
        "           font-size:110%;\n",
        "           font-family:cursive;\n",
        "           letter-spacing:0.5px;\n",
        "           background-color:powderblue;\n",
        "           color:Black;\n",
        "           font-family:cursive\n",
        "           \">\n",
        "<h1 style=\"text-align:center;font-weight: bold\"> Using AdaBoost\n",
        " </h1>\n",
        "</div>\n"
      ],
      "metadata": {
        "id": "W-m7In_nm2B8"
      }
    },
    {
      "cell_type": "markdown",
      "source": [
        "> **base estimator here is: decision stump**"
      ],
      "metadata": {
        "id": "2nVJgYU2m2B9"
      }
    },
    {
      "cell_type": "code",
      "source": [
        "a_train_accuracy, a_test_accuracy, a_train_auc, a_test_auc=check_scores(AdaBoostClassifier(),x_train,x_test, y_train, y_test)\n"
      ],
      "metadata": {
        "execution": {
          "iopub.status.busy": "2022-01-06T07:25:43.720796Z",
          "iopub.execute_input": "2022-01-06T07:25:43.721065Z",
          "iopub.status.idle": "2022-01-06T07:25:47.215851Z",
          "shell.execute_reply.started": "2022-01-06T07:25:43.721026Z",
          "shell.execute_reply": "2022-01-06T07:25:47.215079Z"
        },
        "trusted": true,
        "id": "JPYomrwtm2B9"
      },
      "execution_count": null,
      "outputs": []
    },
    {
      "cell_type": "code",
      "source": [
        "params = {'n_estimators': [10, 50, 100, 500],\n",
        " 'learning_rate': [0.0001, 0.001, 0.01, 0.1, 1.0],\n",
        " 'algorithm': ['SAMME', 'SAMME.R']}\n",
        "\n",
        "ada_optimal_model = grid_search(AdaBoostClassifier(), params,x_train, y_train)"
      ],
      "metadata": {
        "execution": {
          "iopub.status.busy": "2022-01-06T07:25:47.217096Z",
          "iopub.execute_input": "2022-01-06T07:25:47.217357Z",
          "iopub.status.idle": "2022-01-06T07:31:35.356287Z",
          "shell.execute_reply.started": "2022-01-06T07:25:47.217328Z",
          "shell.execute_reply": "2022-01-06T07:31:35.355511Z"
        },
        "trusted": true,
        "id": "rDlOQRLxm2B9"
      },
      "execution_count": null,
      "outputs": []
    },
    {
      "cell_type": "code",
      "source": [
        "ao_train_accuracy, ao_test_accuracy, ao_train_auc, ao_test_auc=check_scores(ada_optimal_model,x_train,x_test, y_train, y_test)\n"
      ],
      "metadata": {
        "execution": {
          "iopub.status.busy": "2022-01-06T07:31:35.357457Z",
          "iopub.execute_input": "2022-01-06T07:31:35.35826Z",
          "iopub.status.idle": "2022-01-06T07:32:07.554842Z",
          "shell.execute_reply.started": "2022-01-06T07:31:35.358218Z",
          "shell.execute_reply": "2022-01-06T07:32:07.554186Z"
        },
        "trusted": true,
        "id": "m_AidBB4m2B9"
      },
      "execution_count": null,
      "outputs": []
    },
    {
      "cell_type": "markdown",
      "source": [
        "<div style=\"color:white;\n",
        "           display:fill;\n",
        "           border-radius:5px;\n",
        "           font-size:110%;\n",
        "           font-family:cursive;\n",
        "           letter-spacing:0.5px;\n",
        "           background-color:powderblue;\n",
        "           color:Black;\n",
        "           font-family:cursive\n",
        "           \">\n",
        "<h1 style=\"text-align:center;font-weight: bold\"> Mengantongi dengan MultinomialNB\n",
        " </h1>\n",
        "</div>\n"
      ],
      "metadata": {
        "id": "O44LOIpHm2B9"
      }
    },
    {
      "cell_type": "code",
      "source": [
        "\n",
        "\n",
        "kfold = model_selection.KFold(n_splits = 3)\n",
        "\n",
        "# bagging classifier\n",
        "model = BaggingClassifier(base_estimator = MultinomialNB(),\n",
        "                          n_estimators = 100)\n",
        "\n",
        "b_train_accuracy, b_test_accuracy, b_train_auc, b_test_auc= check_scores(model,x_train,x_test, y_train, y_test)\n"
      ],
      "metadata": {
        "execution": {
          "iopub.status.busy": "2022-01-06T07:32:07.556017Z",
          "iopub.execute_input": "2022-01-06T07:32:07.556354Z",
          "iopub.status.idle": "2022-01-06T07:32:09.342833Z",
          "shell.execute_reply.started": "2022-01-06T07:32:07.556312Z",
          "shell.execute_reply": "2022-01-06T07:32:09.34219Z"
        },
        "trusted": true,
        "id": "w7QIEb9om2B9"
      },
      "execution_count": null,
      "outputs": []
    },
    {
      "cell_type": "markdown",
      "source": [
        "<div style=\"color:white;\n",
        "           display:fill;\n",
        "           border-radius:5px;\n",
        "           font-size:110%;\n",
        "           font-family:cursive;\n",
        "           letter-spacing:0.5px;\n",
        "           background-color:powderblue;\n",
        "           color:Black;\n",
        "           font-family:cursive\n",
        "           \">\n",
        "<h1 style=\"text-align:center;font-weight: bold\">Menggunakan Hutan Acak\n",
        " </h1>\n",
        "</div>\n",
        "\n"
      ],
      "metadata": {
        "id": "wXWsbKzgm2CJ"
      }
    },
    {
      "cell_type": "code",
      "source": [
        "r_train_accuracy, r_test_accuracy, r_train_auc, r_test_auc= check_scores(RandomForestClassifier(random_state=0).fit(x_train, y_train), x_train,x_test,y_train,y_test)\n"
      ],
      "metadata": {
        "execution": {
          "iopub.status.busy": "2022-01-06T07:32:09.344047Z",
          "iopub.execute_input": "2022-01-06T07:32:09.34451Z",
          "iopub.status.idle": "2022-01-06T07:32:36.268949Z",
          "shell.execute_reply.started": "2022-01-06T07:32:09.344472Z",
          "shell.execute_reply": "2022-01-06T07:32:36.26821Z"
        },
        "trusted": true,
        "id": "qvQyE5lhm2CJ"
      },
      "execution_count": null,
      "outputs": []
    },
    {
      "cell_type": "markdown",
      "source": [
        "<div style=\"color:white;\n",
        "           display:fill;\n",
        "           border-radius:5px;\n",
        "           font-size:110%;\n",
        "           font-family:cursive;\n",
        "           letter-spacing:0.5px;\n",
        "           background-color:powderblue;\n",
        "           color:Black;\n",
        "           font-family:cursive\n",
        "           \">\n",
        "<h1 style=\"text-align:center;font-weight: bold\">Menggunakan LSTM\n",
        " </h1>\n",
        "</div>\n",
        "\n"
      ],
      "metadata": {
        "id": "psW3wU3im2CJ"
      }
    },
    {
      "cell_type": "code",
      "source": [
        "corpus = [df['cleaned_tweet'][i] for i in range( len(df))]\n",
        "\n",
        "voc_size=5000\n",
        "\n",
        "onehot_=[one_hot(words,voc_size)for words in corpus]\n",
        "\n",
        "max_sent_length=max([len(i) for i in corpus])\n",
        "\n",
        "embedded_docs=pad_sequences(onehot_,padding='pre',maxlen=max_sent_length)\n",
        "\n",
        "embedding_vector_features=40\n",
        "model=Sequential()\n",
        "model.add(Embedding(voc_size,embedding_vector_features,input_length=max_sent_length))\n",
        "model.add(Dropout(0.3))\n",
        "model.add(LSTM(100))\n",
        "model.add(Dropout(0.3))\n",
        "model.add(Dense(1,activation='sigmoid'))\n",
        "model.compile(loss='binary_crossentropy',optimizer='adam',metrics=['accuracy'])\n",
        "\n",
        "X_final=np.array(embedded_docs)\n",
        "y_final=np.array(df['airline_sentiment'])\n",
        "X_final.shape,y_final.shape\n"
      ],
      "metadata": {
        "execution": {
          "iopub.status.busy": "2022-01-06T07:32:36.271159Z",
          "iopub.execute_input": "2022-01-06T07:32:36.271688Z",
          "iopub.status.idle": "2022-01-06T07:32:38.849315Z",
          "shell.execute_reply.started": "2022-01-06T07:32:36.271652Z",
          "shell.execute_reply": "2022-01-06T07:32:38.84862Z"
        },
        "trusted": true,
        "id": "VFkONVESm2CJ"
      },
      "execution_count": null,
      "outputs": []
    },
    {
      "cell_type": "code",
      "source": [
        "X_train, X_test, y_train, y_test = train_test_split(X_final, y_final, test_size=0.33, random_state=42)\n",
        "model.fit(X_train,y_train,validation_data=(X_test,y_test),epochs=10,batch_size=64)\n"
      ],
      "metadata": {
        "execution": {
          "iopub.status.busy": "2022-01-06T07:32:38.850553Z",
          "iopub.execute_input": "2022-01-06T07:32:38.850812Z",
          "iopub.status.idle": "2022-01-06T07:33:03.491439Z",
          "shell.execute_reply.started": "2022-01-06T07:32:38.850776Z",
          "shell.execute_reply": "2022-01-06T07:33:03.490756Z"
        },
        "trusted": true,
        "id": "kjEnLnKum2CJ"
      },
      "execution_count": null,
      "outputs": []
    },
    {
      "cell_type": "code",
      "source": [
        "y_test_pred=model.predict_classes(X_test)\n",
        "y_train_pred=model.predict_classes(X_train)\n"
      ],
      "metadata": {
        "execution": {
          "iopub.status.busy": "2022-01-06T07:33:03.492662Z",
          "iopub.execute_input": "2022-01-06T07:33:03.492996Z",
          "iopub.status.idle": "2022-01-06T07:33:04.881827Z",
          "shell.execute_reply.started": "2022-01-06T07:33:03.49296Z",
          "shell.execute_reply": "2022-01-06T07:33:04.881099Z"
        },
        "trusted": true,
        "id": "VcHvZ1kTm2CK"
      },
      "execution_count": null,
      "outputs": []
    },
    {
      "cell_type": "code",
      "source": [
        "test_acc_lstm = accuracy_score(y_test,y_test_pred)\n",
        "train_acc_lstm = accuracy_score(y_train,y_train_pred)\n",
        "test_roc_lstm = roc_auc_score(y_test,y_test_pred)\n",
        "train_roc_lstm = roc_auc_score(y_train,y_train_pred)\n"
      ],
      "metadata": {
        "execution": {
          "iopub.status.busy": "2022-01-06T07:33:04.885021Z",
          "iopub.execute_input": "2022-01-06T07:33:04.885274Z",
          "iopub.status.idle": "2022-01-06T07:33:04.89635Z",
          "shell.execute_reply.started": "2022-01-06T07:33:04.885246Z",
          "shell.execute_reply": "2022-01-06T07:33:04.89569Z"
        },
        "trusted": true,
        "id": "zSpxA5Dsm2CK"
      },
      "execution_count": null,
      "outputs": []
    },
    {
      "cell_type": "markdown",
      "source": [
        "<div style=\"color:white;\n",
        "           display:fill;\n",
        "           border-radius:5px;\n",
        "           font-size:110%;\n",
        "           font-family:cursive;\n",
        "           letter-spacing:0.5px;\n",
        "           background-color:powderblue;\n",
        "           color:Black;\n",
        "           font-family:cursive\n",
        "           \">\n",
        "<h1 style=\"text-align:center;font-weight: bold\">Final Results\n",
        " </h1>\n",
        "</div>\n",
        "\n"
      ],
      "metadata": {
        "id": "pMz4QBqDm2CK"
      }
    },
    {
      "cell_type": "code",
      "source": [
        "data = [('Random Forest', r_train_accuracy, r_test_accuracy, r_train_auc, r_test_auc),\n",
        " ('MultinomialNB',m_train_accuracy, m_test_accuracy, m_train_auc, m_test_auc  ),\n",
        "('Bagged MultinomialNB',b_train_accuracy, b_test_accuracy, b_train_auc, b_test_auc ),\n",
        " ('AdaBoost',a_train_accuracy, a_test_accuracy, a_train_auc, a_test_auc ),\n",
        "('AdaBoost Optimized',ao_train_accuracy, ao_test_accuracy, ao_train_auc, ao_test_auc),\n",
        "('Gaussian Naive Bayes',g_train_accuracy, g_test_accuracy, g_train_auc, g_test_auc),\n",
        "('SVM', s_train_accuracy, s_test_accuracy, s_train_auc, s_test_auc),\n",
        "('SVM Optimized', so_train_accuracy, so_test_accuracy, so_train_auc, so_test_auc),\n",
        "('LSTM',train_acc_lstm, test_acc_lstm, train_roc_lstm, test_roc_lstm )]\n",
        "\n",
        "\n",
        "Scores_ =pd.DataFrame(data = data, columns=['Model Name','Train Accuracy', 'Test Accuracy', 'Train ROC', 'Test ROC'])\n",
        "Scores_.set_index('Model Name', inplace = True)\n",
        "\n",
        "Scores_"
      ],
      "metadata": {
        "execution": {
          "iopub.status.busy": "2022-01-06T07:33:04.897499Z",
          "iopub.execute_input": "2022-01-06T07:33:04.89782Z",
          "iopub.status.idle": "2022-01-06T07:33:04.914992Z",
          "shell.execute_reply.started": "2022-01-06T07:33:04.897783Z",
          "shell.execute_reply": "2022-01-06T07:33:04.914291Z"
        },
        "trusted": true,
        "id": "Dv6M08Pgm2CK"
      },
      "execution_count": null,
      "outputs": []
    },
    {
      "cell_type": "markdown",
      "source": [
        "\n",
        "<div style=\"color:white;\n",
        "           display:fill;\n",
        "           border-radius:5px;\n",
        "           font-size:110%;\n",
        "           font-family:cursive;\n",
        "           letter-spacing:0.5px;\n",
        "           background-color:powderblue;\n",
        "           color:Black;\n",
        "           font-family:cursive\n",
        "           \">\n",
        "<h1 style=\"text-align:center;font-weight: bold\">Kesimpulan\n",
        " </h1>\n",
        "</div>\n",
        "\n",
        "**Sebagian besar model bekerja cukup baik di sini.**"
      ],
      "metadata": {
        "id": "vbFTAMdqm2CK"
      }
    }
  ]
}